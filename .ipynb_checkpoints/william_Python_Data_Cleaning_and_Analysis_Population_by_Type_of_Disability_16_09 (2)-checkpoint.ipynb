{
 "cells": [
  {
   "cell_type": "markdown",
   "metadata": {
    "id": "m0tgCkvzPLEa"
   },
   "source": [
    "# Python Data Cleaning and Analysis - Population by Type of Disability"
   ]
  },
  {
   "cell_type": "markdown",
   "metadata": {
    "id": "VSnOCZ5-IPCi"
   },
   "source": [
    "## 1.0 Importing our Libraries"
   ]
  },
  {
   "cell_type": "code",
   "execution_count": null,
   "metadata": {
    "id": "3r-KDLvrO44a"
   },
   "outputs": [],
   "source": [
    "# Importing the libraries we will need\n",
    "\n",
    "# Importing the pandas library\n",
    "#\n",
    "import pandas as pd\n",
    "\n",
    "# Importing the numpy library\n",
    "#\n",
    "import numpy as np"
   ]
  },
  {
   "cell_type": "markdown",
   "metadata": {
    "id": "HToJZ2gBPawZ"
   },
   "source": [
    "## 1.1 Reading the Dataset from our CSV file\n",
    "\n"
   ]
  },
  {
   "cell_type": "markdown",
   "metadata": {
    "id": "LBUr8VUXQX-K"
   },
   "source": [
    "\n",
    "\n",
    "The dataset we will use contains the percentage distribution of population by type of disability for Kenyan counties.\n",
    "\n",
    "\n",
    "*   Dataset link for download or access: [Link](https://drive.google.com/a/moringaschool.com/file/d/13twDwhbJqBr1Dvmlwzv6Mou-irul77cS/view?usp=sharing)\n",
    "\n",
    "\n",
    "\n"
   ]
  },
  {
   "cell_type": "code",
   "execution_count": null,
   "metadata": {
    "id": "1acwmZanRNHs"
   },
   "outputs": [],
   "source": [
    "# Let's read the data from the CSV file and create the dataframe to be used\n",
    "#\n",
    "f = \"Percentage_Distribution_of_Population_by_type_of_Disability_County_Estimates2005_6.csv\"\n",
    "df1= pd.read_csv(f)"
   ]
  },
  {
   "cell_type": "markdown",
   "metadata": {
    "id": "IICLGbvBRYHq"
   },
   "source": [
    "## 1.2 Previewing our Dataset\n"
   ]
  },
  {
   "cell_type": "code",
   "execution_count": null,
   "metadata": {
    "colab": {
     "base_uri": "https://localhost:8080/",
     "height": 549
    },
    "id": "WrwHg-hzR5BY",
    "outputId": "f7de954b-21cf-4a36-eb5f-20e733444d16"
   },
   "outputs": [
    {
     "data": {
      "text/html": [
       "<div>\n",
       "<style scoped>\n",
       "    .dataframe tbody tr th:only-of-type {\n",
       "        vertical-align: middle;\n",
       "    }\n",
       "\n",
       "    .dataframe tbody tr th {\n",
       "        vertical-align: top;\n",
       "    }\n",
       "\n",
       "    .dataframe thead th {\n",
       "        text-align: right;\n",
       "    }\n",
       "</style>\n",
       "<table border=\"1\" class=\"dataframe\">\n",
       "  <thead>\n",
       "    <tr style=\"text-align: right;\">\n",
       "      <th></th>\n",
       "      <th>County</th>\n",
       "      <th>Missing_Hand</th>\n",
       "      <th>Missing_Foot</th>\n",
       "      <th>Lame</th>\n",
       "      <th>Blind</th>\n",
       "      <th>Deaf</th>\n",
       "      <th>Dumb</th>\n",
       "      <th>Mental</th>\n",
       "      <th>Paralyzed</th>\n",
       "      <th>Other</th>\n",
       "      <th>Total_Count</th>\n",
       "      <th>Location_1</th>\n",
       "      <th>OBJECTID</th>\n",
       "    </tr>\n",
       "  </thead>\n",
       "  <tbody>\n",
       "    <tr>\n",
       "      <th>0</th>\n",
       "      <td>Baringo</td>\n",
       "      <td>10.9%</td>\n",
       "      <td>2.8%</td>\n",
       "      <td>30.9%</td>\n",
       "      <td>2.6%</td>\n",
       "      <td>1%</td>\n",
       "      <td>3.8%</td>\n",
       "      <td>12.4%</td>\n",
       "      <td>54.2%</td>\n",
       "      <td>10.9%</td>\n",
       "      <td>6512.1</td>\n",
       "      <td>(0.512912, 35.952537)</td>\n",
       "      <td>0</td>\n",
       "    </tr>\n",
       "    <tr>\n",
       "      <th>1</th>\n",
       "      <td>Bomet</td>\n",
       "      <td>0%</td>\n",
       "      <td>0%</td>\n",
       "      <td>29.2%</td>\n",
       "      <td>10%</td>\n",
       "      <td>8.1%</td>\n",
       "      <td>8.1%</td>\n",
       "      <td>14.2%</td>\n",
       "      <td>0.3%</td>\n",
       "      <td>38.7%</td>\n",
       "      <td>6538.0</td>\n",
       "      <td>(-0.690131, 35.278005)</td>\n",
       "      <td>1</td>\n",
       "    </tr>\n",
       "    <tr>\n",
       "      <th>2</th>\n",
       "      <td>Bungoma</td>\n",
       "      <td>12.3%</td>\n",
       "      <td>0%</td>\n",
       "      <td>49.2%</td>\n",
       "      <td>0%</td>\n",
       "      <td>2.3%</td>\n",
       "      <td>20.8%</td>\n",
       "      <td>12.7%</td>\n",
       "      <td>0%</td>\n",
       "      <td>21.9%</td>\n",
       "      <td>13170.6</td>\n",
       "      <td>(0.737046, 34.672536)</td>\n",
       "      <td>2</td>\n",
       "    </tr>\n",
       "    <tr>\n",
       "      <th>3</th>\n",
       "      <td>Busia</td>\n",
       "      <td>0%</td>\n",
       "      <td>0%</td>\n",
       "      <td>14.3%</td>\n",
       "      <td>12.3%</td>\n",
       "      <td>4.6%</td>\n",
       "      <td>35.5%</td>\n",
       "      <td>4.8%</td>\n",
       "      <td>14.8%</td>\n",
       "      <td>31.4%</td>\n",
       "      <td>6655.5</td>\n",
       "      <td>(0.428414, 34.210571)</td>\n",
       "      <td>3</td>\n",
       "    </tr>\n",
       "    <tr>\n",
       "      <th>4</th>\n",
       "      <td>Elgeyo Marakwet</td>\n",
       "      <td>0%</td>\n",
       "      <td>0%</td>\n",
       "      <td>31.7%</td>\n",
       "      <td>0%</td>\n",
       "      <td>35.7%</td>\n",
       "      <td>0%</td>\n",
       "      <td>20%</td>\n",
       "      <td>12.6%</td>\n",
       "      <td>7.4%</td>\n",
       "      <td>3599.9</td>\n",
       "      <td>(0.806011, 35.564093)</td>\n",
       "      <td>4</td>\n",
       "    </tr>\n",
       "  </tbody>\n",
       "</table>\n",
       "</div>"
      ],
      "text/plain": [
       "            County Missing_Hand Missing_Foot   Lame  Blind   Deaf   Dumb  \\\n",
       "0          Baringo        10.9%         2.8%  30.9%   2.6%     1%   3.8%   \n",
       "1            Bomet           0%           0%  29.2%    10%   8.1%   8.1%   \n",
       "2          Bungoma        12.3%           0%  49.2%     0%   2.3%  20.8%   \n",
       "3            Busia           0%           0%  14.3%  12.3%   4.6%  35.5%   \n",
       "4  Elgeyo Marakwet           0%           0%  31.7%     0%  35.7%     0%   \n",
       "\n",
       "  Mental Paralyzed  Other  Total_Count              Location_1  OBJECTID  \n",
       "0  12.4%     54.2%  10.9%       6512.1   (0.512912, 35.952537)         0  \n",
       "1  14.2%      0.3%  38.7%       6538.0  (-0.690131, 35.278005)         1  \n",
       "2  12.7%        0%  21.9%      13170.6   (0.737046, 34.672536)         2  \n",
       "3   4.8%     14.8%  31.4%       6655.5   (0.428414, 34.210571)         3  \n",
       "4    20%     12.6%   7.4%       3599.9   (0.806011, 35.564093)         4  "
      ]
     },
     "execution_count": 103,
     "metadata": {},
     "output_type": "execute_result"
    }
   ],
   "source": [
    "# Let's preview the first 5 rows of our data\n",
    "#\n",
    "df1.head()"
   ]
  },
  {
   "cell_type": "markdown",
   "metadata": {
    "id": "RAVzK5O6IR8v"
   },
   "source": [
    "## 1.3 Accessing Information about our Dataset"
   ]
  },
  {
   "cell_type": "code",
   "execution_count": null,
   "metadata": {
    "colab": {
     "base_uri": "https://localhost:8080/"
    },
    "id": "0d2kfemDIYWI",
    "outputId": "66c0025d-e0d3-4742-f26b-84512340e091"
   },
   "outputs": [
    {
     "name": "stdout",
     "output_type": "stream",
     "text": [
      "<class 'pandas.core.frame.DataFrame'>\n",
      "RangeIndex: 48 entries, 0 to 47\n",
      "Data columns (total 13 columns):\n",
      " #   Column        Non-Null Count  Dtype  \n",
      "---  ------        --------------  -----  \n",
      " 0   County        48 non-null     object \n",
      " 1   Missing_Hand  48 non-null     object \n",
      " 2   Missing_Foot  48 non-null     object \n",
      " 3   Lame          48 non-null     object \n",
      " 4   Blind         48 non-null     object \n",
      " 5   Deaf          48 non-null     object \n",
      " 6   Dumb          48 non-null     object \n",
      " 7   Mental        48 non-null     object \n",
      " 8   Paralyzed     48 non-null     object \n",
      " 9   Other         48 non-null     object \n",
      " 10  Total_Count   48 non-null     float64\n",
      " 11  Location_1    47 non-null     object \n",
      " 12  OBJECTID      48 non-null     int64  \n",
      "dtypes: float64(1), int64(1), object(11)\n",
      "memory usage: 5.0+ KB\n"
     ]
    }
   ],
   "source": [
    "# Getting to know more about the dataset by accessing its information\n",
    "#\n",
    "df1.info()"
   ]
  },
  {
   "cell_type": "markdown",
   "metadata": {
    "id": "R9S2o1WXIhq1"
   },
   "source": [
    "## 1.4 Cleaning our Dataset"
   ]
  },
  {
   "cell_type": "markdown",
   "metadata": {
    "id": "eOpM51putz-A"
   },
   "source": [
    "Let us perform data cleaning procedures below providing a documentation for our actions and reasons. We will perform as many data cleaning procedures as we think suitable for the various dimensions of data."
   ]
  },
  {
   "cell_type": "code",
   "execution_count": null,
   "metadata": {
    "id": "1YkQZBIc4Ae-"
   },
   "outputs": [],
   "source": [
    "df2=df1.copy(deep = True)\n"
   ]
  },
  {
   "cell_type": "markdown",
   "metadata": {
    "id": "7CCgp2eguA3H"
   },
   "source": [
    "### 1.41) Validity: <font color=\"green\">Challenges</font>"
   ]
  },
  {
   "cell_type": "code",
   "execution_count": null,
   "metadata": {
    "colab": {
     "base_uri": "https://localhost:8080/",
     "height": 204
    },
    "id": "TOyYIM4_tztJ",
    "outputId": "baa67eec-d545-4c3e-9c32-6406ff80bd38"
   },
   "outputs": [
    {
     "data": {
      "text/html": [
       "<div>\n",
       "<style scoped>\n",
       "    .dataframe tbody tr th:only-of-type {\n",
       "        vertical-align: middle;\n",
       "    }\n",
       "\n",
       "    .dataframe tbody tr th {\n",
       "        vertical-align: top;\n",
       "    }\n",
       "\n",
       "    .dataframe thead th {\n",
       "        text-align: right;\n",
       "    }\n",
       "</style>\n",
       "<table border=\"1\" class=\"dataframe\">\n",
       "  <thead>\n",
       "    <tr style=\"text-align: right;\">\n",
       "      <th></th>\n",
       "      <th>County</th>\n",
       "      <th>Missing_Hand</th>\n",
       "      <th>Missing_Foot</th>\n",
       "      <th>Lame</th>\n",
       "      <th>Blind</th>\n",
       "      <th>Deaf</th>\n",
       "      <th>Dumb</th>\n",
       "      <th>Mental</th>\n",
       "      <th>Paralyzed</th>\n",
       "      <th>Other</th>\n",
       "      <th>Total_Count</th>\n",
       "      <th>OBJECTID</th>\n",
       "    </tr>\n",
       "  </thead>\n",
       "  <tbody>\n",
       "    <tr>\n",
       "      <th>0</th>\n",
       "      <td>Baringo</td>\n",
       "      <td>10.9%</td>\n",
       "      <td>2.8%</td>\n",
       "      <td>30.9%</td>\n",
       "      <td>2.6%</td>\n",
       "      <td>1%</td>\n",
       "      <td>3.8%</td>\n",
       "      <td>12.4%</td>\n",
       "      <td>54.2%</td>\n",
       "      <td>10.9%</td>\n",
       "      <td>6512.1</td>\n",
       "      <td>0</td>\n",
       "    </tr>\n",
       "    <tr>\n",
       "      <th>1</th>\n",
       "      <td>Bomet</td>\n",
       "      <td>0%</td>\n",
       "      <td>0%</td>\n",
       "      <td>29.2%</td>\n",
       "      <td>10%</td>\n",
       "      <td>8.1%</td>\n",
       "      <td>8.1%</td>\n",
       "      <td>14.2%</td>\n",
       "      <td>0.3%</td>\n",
       "      <td>38.7%</td>\n",
       "      <td>6538.0</td>\n",
       "      <td>1</td>\n",
       "    </tr>\n",
       "    <tr>\n",
       "      <th>2</th>\n",
       "      <td>Bungoma</td>\n",
       "      <td>12.3%</td>\n",
       "      <td>0%</td>\n",
       "      <td>49.2%</td>\n",
       "      <td>0%</td>\n",
       "      <td>2.3%</td>\n",
       "      <td>20.8%</td>\n",
       "      <td>12.7%</td>\n",
       "      <td>0%</td>\n",
       "      <td>21.9%</td>\n",
       "      <td>13170.6</td>\n",
       "      <td>2</td>\n",
       "    </tr>\n",
       "    <tr>\n",
       "      <th>3</th>\n",
       "      <td>Busia</td>\n",
       "      <td>0%</td>\n",
       "      <td>0%</td>\n",
       "      <td>14.3%</td>\n",
       "      <td>12.3%</td>\n",
       "      <td>4.6%</td>\n",
       "      <td>35.5%</td>\n",
       "      <td>4.8%</td>\n",
       "      <td>14.8%</td>\n",
       "      <td>31.4%</td>\n",
       "      <td>6655.5</td>\n",
       "      <td>3</td>\n",
       "    </tr>\n",
       "    <tr>\n",
       "      <th>4</th>\n",
       "      <td>Elgeyo Marakwet</td>\n",
       "      <td>0%</td>\n",
       "      <td>0%</td>\n",
       "      <td>31.7%</td>\n",
       "      <td>0%</td>\n",
       "      <td>35.7%</td>\n",
       "      <td>0%</td>\n",
       "      <td>20%</td>\n",
       "      <td>12.6%</td>\n",
       "      <td>7.4%</td>\n",
       "      <td>3599.9</td>\n",
       "      <td>4</td>\n",
       "    </tr>\n",
       "  </tbody>\n",
       "</table>\n",
       "</div>"
      ],
      "text/plain": [
       "            County Missing_Hand Missing_Foot   Lame  Blind   Deaf   Dumb  \\\n",
       "0          Baringo        10.9%         2.8%  30.9%   2.6%     1%   3.8%   \n",
       "1            Bomet           0%           0%  29.2%    10%   8.1%   8.1%   \n",
       "2          Bungoma        12.3%           0%  49.2%     0%   2.3%  20.8%   \n",
       "3            Busia           0%           0%  14.3%  12.3%   4.6%  35.5%   \n",
       "4  Elgeyo Marakwet           0%           0%  31.7%     0%  35.7%     0%   \n",
       "\n",
       "  Mental Paralyzed  Other  Total_Count  OBJECTID  \n",
       "0  12.4%     54.2%  10.9%       6512.1         0  \n",
       "1  14.2%      0.3%  38.7%       6538.0         1  \n",
       "2  12.7%        0%  21.9%      13170.6         2  \n",
       "3   4.8%     14.8%  31.4%       6655.5         3  \n",
       "4    20%     12.6%   7.4%       3599.9         4  "
      ]
     },
     "execution_count": 106,
     "metadata": {},
     "output_type": "execute_result"
    }
   ],
   "source": [
    "# Procedure 1: Irrelevant Data Observation\n",
    "# Data Cleaning Action: Dropping Location_1 attribute\n",
    "# Explanation: We won't need it during Analysis. No question to be answered requires that column.\n",
    "#\n",
    "#dropping colunm\n",
    "df1.drop([\"Location_1\"], axis=1,inplace = True)\n",
    "df1.head()"
   ]
  },
  {
   "cell_type": "code",
   "execution_count": null,
   "metadata": {
    "id": "JNTGqYM0X_5P"
   },
   "outputs": [],
   "source": [
    "#df1.columns"
   ]
  },
  {
   "cell_type": "code",
   "execution_count": null,
   "metadata": {
    "colab": {
     "base_uri": "https://localhost:8080/",
     "height": 204
    },
    "id": "9wFBDVC9twz9",
    "outputId": "b4dac923-fc63-4508-b365-b63ddcc563a7"
   },
   "outputs": [
    {
     "data": {
      "text/html": [
       "<div>\n",
       "<style scoped>\n",
       "    .dataframe tbody tr th:only-of-type {\n",
       "        vertical-align: middle;\n",
       "    }\n",
       "\n",
       "    .dataframe tbody tr th {\n",
       "        vertical-align: top;\n",
       "    }\n",
       "\n",
       "    .dataframe thead th {\n",
       "        text-align: right;\n",
       "    }\n",
       "</style>\n",
       "<table border=\"1\" class=\"dataframe\">\n",
       "  <thead>\n",
       "    <tr style=\"text-align: right;\">\n",
       "      <th></th>\n",
       "      <th>County</th>\n",
       "      <th>Missing_Hand</th>\n",
       "      <th>Missing_Foot</th>\n",
       "      <th>Lame</th>\n",
       "      <th>Blind</th>\n",
       "      <th>Deaf</th>\n",
       "      <th>Dumb</th>\n",
       "      <th>Mental</th>\n",
       "      <th>Paralyzed</th>\n",
       "      <th>Other</th>\n",
       "      <th>Total_Count</th>\n",
       "    </tr>\n",
       "  </thead>\n",
       "  <tbody>\n",
       "    <tr>\n",
       "      <th>0</th>\n",
       "      <td>Baringo</td>\n",
       "      <td>10.9%</td>\n",
       "      <td>2.8%</td>\n",
       "      <td>30.9%</td>\n",
       "      <td>2.6%</td>\n",
       "      <td>1%</td>\n",
       "      <td>3.8%</td>\n",
       "      <td>12.4%</td>\n",
       "      <td>54.2%</td>\n",
       "      <td>10.9%</td>\n",
       "      <td>6512.1</td>\n",
       "    </tr>\n",
       "    <tr>\n",
       "      <th>1</th>\n",
       "      <td>Bomet</td>\n",
       "      <td>0%</td>\n",
       "      <td>0%</td>\n",
       "      <td>29.2%</td>\n",
       "      <td>10%</td>\n",
       "      <td>8.1%</td>\n",
       "      <td>8.1%</td>\n",
       "      <td>14.2%</td>\n",
       "      <td>0.3%</td>\n",
       "      <td>38.7%</td>\n",
       "      <td>6538.0</td>\n",
       "    </tr>\n",
       "    <tr>\n",
       "      <th>2</th>\n",
       "      <td>Bungoma</td>\n",
       "      <td>12.3%</td>\n",
       "      <td>0%</td>\n",
       "      <td>49.2%</td>\n",
       "      <td>0%</td>\n",
       "      <td>2.3%</td>\n",
       "      <td>20.8%</td>\n",
       "      <td>12.7%</td>\n",
       "      <td>0%</td>\n",
       "      <td>21.9%</td>\n",
       "      <td>13170.6</td>\n",
       "    </tr>\n",
       "    <tr>\n",
       "      <th>3</th>\n",
       "      <td>Busia</td>\n",
       "      <td>0%</td>\n",
       "      <td>0%</td>\n",
       "      <td>14.3%</td>\n",
       "      <td>12.3%</td>\n",
       "      <td>4.6%</td>\n",
       "      <td>35.5%</td>\n",
       "      <td>4.8%</td>\n",
       "      <td>14.8%</td>\n",
       "      <td>31.4%</td>\n",
       "      <td>6655.5</td>\n",
       "    </tr>\n",
       "    <tr>\n",
       "      <th>4</th>\n",
       "      <td>Elgeyo Marakwet</td>\n",
       "      <td>0%</td>\n",
       "      <td>0%</td>\n",
       "      <td>31.7%</td>\n",
       "      <td>0%</td>\n",
       "      <td>35.7%</td>\n",
       "      <td>0%</td>\n",
       "      <td>20%</td>\n",
       "      <td>12.6%</td>\n",
       "      <td>7.4%</td>\n",
       "      <td>3599.9</td>\n",
       "    </tr>\n",
       "  </tbody>\n",
       "</table>\n",
       "</div>"
      ],
      "text/plain": [
       "            County Missing_Hand Missing_Foot   Lame  Blind   Deaf   Dumb  \\\n",
       "0          Baringo        10.9%         2.8%  30.9%   2.6%     1%   3.8%   \n",
       "1            Bomet           0%           0%  29.2%    10%   8.1%   8.1%   \n",
       "2          Bungoma        12.3%           0%  49.2%     0%   2.3%  20.8%   \n",
       "3            Busia           0%           0%  14.3%  12.3%   4.6%  35.5%   \n",
       "4  Elgeyo Marakwet           0%           0%  31.7%     0%  35.7%     0%   \n",
       "\n",
       "  Mental Paralyzed  Other  Total_Count  \n",
       "0  12.4%     54.2%  10.9%       6512.1  \n",
       "1  14.2%      0.3%  38.7%       6538.0  \n",
       "2  12.7%        0%  21.9%      13170.6  \n",
       "3   4.8%     14.8%  31.4%       6655.5  \n",
       "4    20%     12.6%   7.4%       3599.9  "
      ]
     },
     "execution_count": 108,
     "metadata": {},
     "output_type": "execute_result"
    }
   ],
   "source": [
    "# Procedure 2: Irrelevant Data Observation\n",
    "# Data Cleaning Action: Drop OBJECTID attribute\n",
    "# Explanation: Its irrelevant to our table i.e. attribute starts from 0 and ends of 48 i.e. No meaning at all.\n",
    "#\n",
    "df1.head()\n",
    "df1.drop(columns=[\"OBJECTID\"], inplace=True)\n",
    "df1. head()"
   ]
  },
  {
   "cell_type": "code",
   "execution_count": null,
   "metadata": {
    "id": "DFy7lo5iuIYc"
   },
   "outputs": [],
   "source": [
    "# Procedure 3:\n",
    "# Data Cleaning Action:syntax errors\n",
    "# Explanation:We can use the str.strip function on colunms to strip the leading and trailing spaces\n",
    "df1.columns= df1.columns.str.strip()\n",
    "df1.head()\n",
    "#stripping each colunm seperatly we use\n",
    "df1['County'] = df1['County'].str.strip()  #.....etc\n",
    "#\n",
    "#stripping all the spaces\n",
    "df1['County'] = df1['County'].str.replace(\" \",\"\")\n",
    "#fixing typo by replacing colunm names\n",
    "df1['County'] = df1['County'].str.replace('Lame', 'why') #....for practice purpose\n"
   ]
  },
  {
   "cell_type": "code",
   "execution_count": null,
   "metadata": {
    "id": "BZsQhqtYKvjD",
    "outputId": "059b545e-0fc4-4e79-f619-925d0a9c8090"
   },
   "outputs": [
    {
     "data": {
      "text/plain": [
       "County           object\n",
       "Missing_Hand     object\n",
       "Missing_Foot     object\n",
       "Lame             object\n",
       "Blind            object\n",
       "Deaf             object\n",
       "Dumb             object\n",
       "Mental           object\n",
       "Paralyzed        object\n",
       "Other            object\n",
       "Total_Count     float64\n",
       "dtype: object"
      ]
     },
     "execution_count": 89,
     "metadata": {},
     "output_type": "execute_result"
    }
   ],
   "source": [
    "df1.dtypes\n"
   ]
  },
  {
   "cell_type": "code",
   "execution_count": null,
   "metadata": {
    "id": "lBQUPYdqL3GU"
   },
   "outputs": [],
   "source": [
    "# Procedure 4:\n",
    "# Data Cleaning Action:getting rid of % sign and coverting the datatype\n",
    "# Explanation:for easy manupulation and analysis\n",
    "#\n",
    "df1['Missing_Hand'] = df1['Missing_Hand'].str.rstrip('%').astype('float') / 100\n",
    "df1['Missing_Foot'] = df1['Missing_Foot'].str.rstrip('%').astype('float') / 100\n",
    "df1['Lame'] = df1['Lame'].str.rstrip('%').astype('float') / 100\n",
    "df1['Blind'] = df1['Blind'].str.rstrip('%').astype('float') / 100\n",
    "df1['Deaf'] = df1['Deaf'].str.rstrip('%').astype('float') / 100\n",
    "df1['Dumb'] = df1['Dumb'].str.rstrip('%').astype('float') / 100\n",
    "df1['Mental'] = df1['Mental'].str.rstrip('%').astype('float') / 100\n",
    "df1['Paralyzed'] = df1['Paralyzed'].str.rstrip('%').astype('float') / 100\n",
    "df1['Other'] = df1['Other'].str.rstrip('%').astype('float') / 100"
   ]
  },
  {
   "cell_type": "code",
   "execution_count": null,
   "metadata": {
    "colab": {
     "base_uri": "https://localhost:8080/",
     "height": 204
    },
    "id": "DUUrFp4cCCiw",
    "outputId": "745a557e-eecc-4de0-946e-e310960285df"
   },
   "outputs": [
    {
     "data": {
      "text/html": [
       "<div>\n",
       "<style scoped>\n",
       "    .dataframe tbody tr th:only-of-type {\n",
       "        vertical-align: middle;\n",
       "    }\n",
       "\n",
       "    .dataframe tbody tr th {\n",
       "        vertical-align: top;\n",
       "    }\n",
       "\n",
       "    .dataframe thead th {\n",
       "        text-align: right;\n",
       "    }\n",
       "</style>\n",
       "<table border=\"1\" class=\"dataframe\">\n",
       "  <thead>\n",
       "    <tr style=\"text-align: right;\">\n",
       "      <th></th>\n",
       "      <th>County</th>\n",
       "      <th>Missing_Hand</th>\n",
       "      <th>Missing_Foot</th>\n",
       "      <th>Lame</th>\n",
       "      <th>Blind</th>\n",
       "      <th>Deaf</th>\n",
       "      <th>Dumb</th>\n",
       "      <th>Mental</th>\n",
       "      <th>Paralyzed</th>\n",
       "      <th>Other</th>\n",
       "      <th>Total_Count</th>\n",
       "    </tr>\n",
       "  </thead>\n",
       "  <tbody>\n",
       "    <tr>\n",
       "      <th>0</th>\n",
       "      <td>Baringo</td>\n",
       "      <td>0.109</td>\n",
       "      <td>0.028</td>\n",
       "      <td>0.309</td>\n",
       "      <td>0.026</td>\n",
       "      <td>0.010</td>\n",
       "      <td>0.038</td>\n",
       "      <td>0.124</td>\n",
       "      <td>0.542</td>\n",
       "      <td>0.109</td>\n",
       "      <td>6512.1</td>\n",
       "    </tr>\n",
       "    <tr>\n",
       "      <th>1</th>\n",
       "      <td>Bomet</td>\n",
       "      <td>0.000</td>\n",
       "      <td>0.000</td>\n",
       "      <td>0.292</td>\n",
       "      <td>0.100</td>\n",
       "      <td>0.081</td>\n",
       "      <td>0.081</td>\n",
       "      <td>0.142</td>\n",
       "      <td>0.003</td>\n",
       "      <td>0.387</td>\n",
       "      <td>6538.0</td>\n",
       "    </tr>\n",
       "    <tr>\n",
       "      <th>2</th>\n",
       "      <td>Bungoma</td>\n",
       "      <td>0.123</td>\n",
       "      <td>0.000</td>\n",
       "      <td>0.492</td>\n",
       "      <td>0.000</td>\n",
       "      <td>0.023</td>\n",
       "      <td>0.208</td>\n",
       "      <td>0.127</td>\n",
       "      <td>0.000</td>\n",
       "      <td>0.219</td>\n",
       "      <td>13170.6</td>\n",
       "    </tr>\n",
       "    <tr>\n",
       "      <th>3</th>\n",
       "      <td>Busia</td>\n",
       "      <td>0.000</td>\n",
       "      <td>0.000</td>\n",
       "      <td>0.143</td>\n",
       "      <td>0.123</td>\n",
       "      <td>0.046</td>\n",
       "      <td>0.355</td>\n",
       "      <td>0.048</td>\n",
       "      <td>0.148</td>\n",
       "      <td>0.314</td>\n",
       "      <td>6655.5</td>\n",
       "    </tr>\n",
       "    <tr>\n",
       "      <th>4</th>\n",
       "      <td>Elgeyo Marakwet</td>\n",
       "      <td>0.000</td>\n",
       "      <td>0.000</td>\n",
       "      <td>0.317</td>\n",
       "      <td>0.000</td>\n",
       "      <td>0.357</td>\n",
       "      <td>0.000</td>\n",
       "      <td>0.200</td>\n",
       "      <td>0.126</td>\n",
       "      <td>0.074</td>\n",
       "      <td>3599.9</td>\n",
       "    </tr>\n",
       "  </tbody>\n",
       "</table>\n",
       "</div>"
      ],
      "text/plain": [
       "            County  Missing_Hand  Missing_Foot   Lame  Blind   Deaf   Dumb  \\\n",
       "0          Baringo         0.109         0.028  0.309  0.026  0.010  0.038   \n",
       "1            Bomet         0.000         0.000  0.292  0.100  0.081  0.081   \n",
       "2          Bungoma         0.123         0.000  0.492  0.000  0.023  0.208   \n",
       "3            Busia         0.000         0.000  0.143  0.123  0.046  0.355   \n",
       "4  Elgeyo Marakwet         0.000         0.000  0.317  0.000  0.357  0.000   \n",
       "\n",
       "   Mental  Paralyzed  Other  Total_Count  \n",
       "0   0.124      0.542  0.109       6512.1  \n",
       "1   0.142      0.003  0.387       6538.0  \n",
       "2   0.127      0.000  0.219      13170.6  \n",
       "3   0.048      0.148  0.314       6655.5  \n",
       "4   0.200      0.126  0.074       3599.9  "
      ]
     },
     "execution_count": 68,
     "metadata": {},
     "output_type": "execute_result"
    }
   ],
   "source": [
    "df1.head()"
   ]
  },
  {
   "cell_type": "code",
   "execution_count": null,
   "metadata": {
    "id": "_rxTW2MLcQF-"
   },
   "outputs": [],
   "source": [
    "#procedure 4b using for loops\n",
    "columns_to_clean = ['Missing_Hand', 'Missing_Foot', 'Lame', 'Blind', 'Deaf', 'Dumb', 'Mental', 'Paralyzed', 'Other']\n",
    "\n",
    "for col in columns_to_clean:\n",
    "    df1[col] = df1[col].str.rstrip('%').astype('float') / 100"
   ]
  },
  {
   "cell_type": "code",
   "execution_count": null,
   "metadata": {
    "id": "b8DT4S_-pUl-",
    "outputId": "c1cf6d19-d523-4495-9130-575cc8b6cb61"
   },
   "outputs": [
    {
     "data": {
      "text/html": [
       "<div>\n",
       "<style scoped>\n",
       "    .dataframe tbody tr th:only-of-type {\n",
       "        vertical-align: middle;\n",
       "    }\n",
       "\n",
       "    .dataframe tbody tr th {\n",
       "        vertical-align: top;\n",
       "    }\n",
       "\n",
       "    .dataframe thead th {\n",
       "        text-align: right;\n",
       "    }\n",
       "</style>\n",
       "<table border=\"1\" class=\"dataframe\">\n",
       "  <thead>\n",
       "    <tr style=\"text-align: right;\">\n",
       "      <th></th>\n",
       "      <th>County</th>\n",
       "      <th>Missing_Hand</th>\n",
       "      <th>Missing_Foot</th>\n",
       "      <th>Lame</th>\n",
       "      <th>Blind</th>\n",
       "      <th>Deaf</th>\n",
       "      <th>Dumb</th>\n",
       "      <th>Mental</th>\n",
       "      <th>Paralyzed</th>\n",
       "      <th>Other</th>\n",
       "      <th>Total_Count</th>\n",
       "    </tr>\n",
       "  </thead>\n",
       "  <tbody>\n",
       "    <tr>\n",
       "      <th>0</th>\n",
       "      <td>Baringo</td>\n",
       "      <td>0.109</td>\n",
       "      <td>0.028</td>\n",
       "      <td>0.309</td>\n",
       "      <td>0.026</td>\n",
       "      <td>0.010</td>\n",
       "      <td>0.038</td>\n",
       "      <td>0.124</td>\n",
       "      <td>0.542</td>\n",
       "      <td>0.109</td>\n",
       "      <td>6512.1</td>\n",
       "    </tr>\n",
       "    <tr>\n",
       "      <th>1</th>\n",
       "      <td>Bomet</td>\n",
       "      <td>0.000</td>\n",
       "      <td>0.000</td>\n",
       "      <td>0.292</td>\n",
       "      <td>0.100</td>\n",
       "      <td>0.081</td>\n",
       "      <td>0.081</td>\n",
       "      <td>0.142</td>\n",
       "      <td>0.003</td>\n",
       "      <td>0.387</td>\n",
       "      <td>6538.0</td>\n",
       "    </tr>\n",
       "    <tr>\n",
       "      <th>2</th>\n",
       "      <td>Bungoma</td>\n",
       "      <td>0.123</td>\n",
       "      <td>0.000</td>\n",
       "      <td>0.492</td>\n",
       "      <td>0.000</td>\n",
       "      <td>0.023</td>\n",
       "      <td>0.208</td>\n",
       "      <td>0.127</td>\n",
       "      <td>0.000</td>\n",
       "      <td>0.219</td>\n",
       "      <td>13170.6</td>\n",
       "    </tr>\n",
       "    <tr>\n",
       "      <th>3</th>\n",
       "      <td>Busia</td>\n",
       "      <td>0.000</td>\n",
       "      <td>0.000</td>\n",
       "      <td>0.143</td>\n",
       "      <td>0.123</td>\n",
       "      <td>0.046</td>\n",
       "      <td>0.355</td>\n",
       "      <td>0.048</td>\n",
       "      <td>0.148</td>\n",
       "      <td>0.314</td>\n",
       "      <td>6655.5</td>\n",
       "    </tr>\n",
       "    <tr>\n",
       "      <th>4</th>\n",
       "      <td>ElgeyoMarakwet</td>\n",
       "      <td>0.000</td>\n",
       "      <td>0.000</td>\n",
       "      <td>0.317</td>\n",
       "      <td>0.000</td>\n",
       "      <td>0.357</td>\n",
       "      <td>0.000</td>\n",
       "      <td>0.200</td>\n",
       "      <td>0.126</td>\n",
       "      <td>0.074</td>\n",
       "      <td>3599.9</td>\n",
       "    </tr>\n",
       "  </tbody>\n",
       "</table>\n",
       "</div>"
      ],
      "text/plain": [
       "           County  Missing_Hand  Missing_Foot   Lame  Blind   Deaf   Dumb  \\\n",
       "0         Baringo         0.109         0.028  0.309  0.026  0.010  0.038   \n",
       "1           Bomet         0.000         0.000  0.292  0.100  0.081  0.081   \n",
       "2         Bungoma         0.123         0.000  0.492  0.000  0.023  0.208   \n",
       "3           Busia         0.000         0.000  0.143  0.123  0.046  0.355   \n",
       "4  ElgeyoMarakwet         0.000         0.000  0.317  0.000  0.357  0.000   \n",
       "\n",
       "   Mental  Paralyzed  Other  Total_Count  \n",
       "0   0.124      0.542  0.109       6512.1  \n",
       "1   0.142      0.003  0.387       6538.0  \n",
       "2   0.127      0.000  0.219      13170.6  \n",
       "3   0.048      0.148  0.314       6655.5  \n",
       "4   0.200      0.126  0.074       3599.9  "
      ]
     },
     "execution_count": 112,
     "metadata": {},
     "output_type": "execute_result"
    }
   ],
   "source": [
    "#preview\n",
    "df1.head()"
   ]
  },
  {
   "cell_type": "markdown",
   "metadata": {
    "id": "eyKHF_ubujvV"
   },
   "source": [
    "### 1.42) Accuracy <font color=\"green\">Challenges</font>"
   ]
  },
  {
   "cell_type": "code",
   "execution_count": null,
   "metadata": {
    "colab": {
     "base_uri": "https://localhost:8080/",
     "height": 296
    },
    "id": "9ZsKlZrQulto",
    "outputId": "a8e7b3ba-cb53-4672-9603-23472a81ccdf"
   },
   "outputs": [
    {
     "data": {
      "image/png": "[encoded data removed]",
      "text/plain": [
       "<Figure size 432x288 with 1 Axes>"
      ]
     },
     "metadata": {
      "needs_background": "light"
     },
     "output_type": "display_data"
    }
   ],
   "source": [
    "# Procedure 1:\n",
    "# Data Cleaning Action:clearing outliers\n",
    "# Explanation:this help in accuracy\n",
    "#checking outliers using matplotlib\n",
    "import numpy as np\n",
    "import pandas as pd\n",
    "import matplotlib.pyplot as plt\n",
    "% matplotlib inline\n",
    "#\n",
    "df1.boxplot(column =['Missing_Foot'], grid = False)\n",
    "plt.title(\"Missing_Foot outlier\")\n",
    "plt.xlabel(\"my x axis\")\n",
    "plt.ylabel(\"my y axis\")\n",
    "plt.show()"
   ]
  },
  {
   "cell_type": "code",
   "execution_count": null,
   "metadata": {
    "colab": {
     "base_uri": "https://localhost:8080/"
    },
    "id": "OgGaMc-6HXSC",
    "outputId": "9ace5564-ee93-4342-f193-2b1d6bb6a943"
   },
   "outputs": [
    {
     "name": "stdout",
     "output_type": "stream",
     "text": [
      "old shape: \n",
      " (48, 11)\n",
      "****************************************\n",
      "new shape: \n",
      " (24, 11)\n"
     ]
    }
   ],
   "source": [
    "# dropping ouliers using interquantile method\n",
    "Q1 = df1.quantile(0.25)\n",
    "Q3 = df1.quantile(0.75)\n",
    "IQR = Q3 - Q1\n",
    "# removing outliers\n",
    "df2 = df1[~((df1 < (Q1 - 1.5 * IQR)) | (df1 > (Q3 + 1.5 * IQR))).any(axis=1)]\n",
    "\n",
    "# checking old shape\n",
    "print(\"old shape:\",\"\\n\",df1.shape)\n",
    "print(\"****\"*10)\n",
    "print(\"new shape:\",\"\\n\", df2.shape)"
   ]
  },
  {
   "cell_type": "code",
   "execution_count": null,
   "metadata": {
    "colab": {
     "base_uri": "https://localhost:8080/",
     "height": 282
    },
    "id": "hPcch_tW_8N1",
    "outputId": "6f03f266-6b44-4d06-b23c-a38373be28da"
   },
   "outputs": [
    {
     "data": {
      "image/png": "[encoded data removed]",
      "text/plain": [
       "<Figure size 432x288 with 1 Axes>"
      ]
     },
     "metadata": {
      "needs_background": "light"
     },
     "output_type": "display_data"
    }
   ],
   "source": [
    "df2.boxplot(column =['Missing_Foot'], grid = False)\n",
    "plt.title(\"Missing_Foot outlier\")\n",
    "plt.show()"
   ]
  },
  {
   "cell_type": "code",
   "execution_count": null,
   "metadata": {
    "id": "birGA7h6pUl_"
   },
   "outputs": [],
   "source": [
    "#using fa function\n",
    "# Procedure 6:\n",
    "# Data Cleaning Action: Handling Outliers\n",
    "# Explanation: We will use a suitable method to handle outliers in numerical columns, such as clipping or removing them.\n",
    "# Let's use the interquartile range (IQR) method for simplicity.\n",
    "def handle_outliers(column):\n",
    "    Q1 = df1[column].quantile(0.25)\n",
    "    Q3 = df1[column].quantile(0.75)\n",
    "    IQR = Q3 - Q1\n",
    "    lower_bound = Q1 - 1.5 * IQR\n",
    "    upper_bound = Q3 + 1.5 * IQR\n",
    "    df1[column] = df1[column].clip(lower=lower_bound, upper=upper_bound)"
   ]
  },
  {
   "cell_type": "markdown",
   "metadata": {
    "id": "O2f0aJA4uwP1"
   },
   "source": [
    "### 1.43) Completeness <font color=\"green\">Challenges</font>"
   ]
  },
  {
   "cell_type": "code",
   "execution_count": null,
   "metadata": {
    "colab": {
     "base_uri": "https://localhost:8080/"
    },
    "id": "z2_4QmGPuzNF",
    "outputId": "a75261c5-d1c9-40f7-b079-40db11cfc81f"
   },
   "outputs": [
    {
     "data": {
      "text/plain": [
       "County          0\n",
       "Missing_Hand    0\n",
       "Missing_Foot    0\n",
       "Lame            0\n",
       "Blind           0\n",
       "Deaf            0\n",
       "Dumb            0\n",
       "Mental          0\n",
       "Paralyzed       0\n",
       "Other           0\n",
       "Total_Count     0\n",
       "dtype: int64"
      ]
     },
     "execution_count": 16,
     "metadata": {},
     "output_type": "execute_result"
    }
   ],
   "source": [
    "# a:\n",
    "# Data Cleaning Action:checking the missing values\n",
    "# Explanation:this ensures the data is complete\n",
    "\n",
    "#checking missing values\n",
    "df2.isnull().sum()\n"
   ]
  },
  {
   "cell_type": "code",
   "execution_count": null,
   "metadata": {
    "colab": {
     "base_uri": "https://localhost:8080/",
     "height": 173
    },
    "id": "X-Dhg5qJvNRM",
    "outputId": "32916169-e419-4f6c-eccb-49f29e7ae54b"
   },
   "outputs": [
    {
     "data": {
      "text/html": [
       "<div>\n",
       "<style scoped>\n",
       "    .dataframe tbody tr th:only-of-type {\n",
       "        vertical-align: middle;\n",
       "    }\n",
       "\n",
       "    .dataframe tbody tr th {\n",
       "        vertical-align: top;\n",
       "    }\n",
       "\n",
       "    .dataframe thead th {\n",
       "        text-align: right;\n",
       "    }\n",
       "</style>\n",
       "<table border=\"1\" class=\"dataframe\">\n",
       "  <thead>\n",
       "    <tr style=\"text-align: right;\">\n",
       "      <th></th>\n",
       "      <th>County</th>\n",
       "      <th>Missing_Hand</th>\n",
       "      <th>Missing_Foot</th>\n",
       "      <th>Lame</th>\n",
       "      <th>Blind</th>\n",
       "      <th>Deaf</th>\n",
       "      <th>Dumb</th>\n",
       "      <th>Mental</th>\n",
       "      <th>Paralyzed</th>\n",
       "      <th>Other</th>\n",
       "      <th>Total_Count</th>\n",
       "    </tr>\n",
       "  </thead>\n",
       "  <tbody>\n",
       "    <tr>\n",
       "      <th>1</th>\n",
       "      <td>Bomet</td>\n",
       "      <td>0.000</td>\n",
       "      <td>0.0</td>\n",
       "      <td>0.292</td>\n",
       "      <td>0.100</td>\n",
       "      <td>0.081</td>\n",
       "      <td>0.081</td>\n",
       "      <td>0.142</td>\n",
       "      <td>0.003</td>\n",
       "      <td>0.387</td>\n",
       "      <td>6538.0</td>\n",
       "    </tr>\n",
       "    <tr>\n",
       "      <th>5</th>\n",
       "      <td>Embu</td>\n",
       "      <td>0.000</td>\n",
       "      <td>0.0</td>\n",
       "      <td>0.551</td>\n",
       "      <td>0.000</td>\n",
       "      <td>0.000</td>\n",
       "      <td>0.030</td>\n",
       "      <td>0.030</td>\n",
       "      <td>0.025</td>\n",
       "      <td>0.418</td>\n",
       "      <td>6287.4</td>\n",
       "    </tr>\n",
       "    <tr>\n",
       "      <th>7</th>\n",
       "      <td>Homa Bay</td>\n",
       "      <td>0.021</td>\n",
       "      <td>0.0</td>\n",
       "      <td>0.209</td>\n",
       "      <td>0.067</td>\n",
       "      <td>0.063</td>\n",
       "      <td>0.052</td>\n",
       "      <td>0.113</td>\n",
       "      <td>0.090</td>\n",
       "      <td>0.483</td>\n",
       "      <td>23696.8</td>\n",
       "    </tr>\n",
       "    <tr>\n",
       "      <th>9</th>\n",
       "      <td>Kajiado</td>\n",
       "      <td>0.000</td>\n",
       "      <td>0.0</td>\n",
       "      <td>0.269</td>\n",
       "      <td>0.190</td>\n",
       "      <td>0.000</td>\n",
       "      <td>0.000</td>\n",
       "      <td>0.276</td>\n",
       "      <td>0.000</td>\n",
       "      <td>0.455</td>\n",
       "      <td>3250.3</td>\n",
       "    </tr>\n",
       "  </tbody>\n",
       "</table>\n",
       "</div>"
      ],
      "text/plain": [
       "     County  Missing_Hand  Missing_Foot  ...  Paralyzed  Other  Total_Count\n",
       "1     Bomet         0.000           0.0  ...      0.003  0.387       6538.0\n",
       "5      Embu         0.000           0.0  ...      0.025  0.418       6287.4\n",
       "7  Homa Bay         0.021           0.0  ...      0.090  0.483      23696.8\n",
       "9   Kajiado         0.000           0.0  ...      0.000  0.455       3250.3\n",
       "\n",
       "[4 rows x 11 columns]"
      ]
     },
     "execution_count": 17,
     "metadata": {},
     "output_type": "execute_result"
    }
   ],
   "source": [
    "# Procedure 2:\n",
    "# Data Cleaning Action:dropping missing values\n",
    "# Explanation:for credibity of the dataset\n",
    "#\n",
    "clean_df2=df2.dropna(how=\"all\")\n",
    "clean_df2[:4]"
   ]
  },
  {
   "cell_type": "markdown",
   "metadata": {
    "id": "ZbjJzXhnuQox"
   },
   "source": [
    "### 1.44) Consitency: <font color=\"green\">Challenges</font>"
   ]
  },
  {
   "cell_type": "code",
   "execution_count": null,
   "metadata": {
    "colab": {
     "base_uri": "https://localhost:8080/"
    },
    "id": "ryPOnu_sd9vN",
    "outputId": "2e9ee613-a913-43bb-ef46-b20edf1e0294"
   },
   "outputs": [
    {
     "data": {
      "text/plain": [
       "False"
      ]
     },
     "execution_count": 18,
     "metadata": {},
     "output_type": "execute_result"
    }
   ],
   "source": [
    "#checking for duplicates\n",
    "clean_df2.duplicated().any()"
   ]
  },
  {
   "cell_type": "code",
   "execution_count": null,
   "metadata": {
    "colab": {
     "base_uri": "https://localhost:8080/",
     "height": 793
    },
    "id": "CUN5YcwQMihS",
    "outputId": "08deff18-3013-4abf-ca72-21f0837a29d0"
   },
   "outputs": [
    {
     "data": {
      "text/html": [
       "<div>\n",
       "<style scoped>\n",
       "    .dataframe tbody tr th:only-of-type {\n",
       "        vertical-align: middle;\n",
       "    }\n",
       "\n",
       "    .dataframe tbody tr th {\n",
       "        vertical-align: top;\n",
       "    }\n",
       "\n",
       "    .dataframe thead th {\n",
       "        text-align: right;\n",
       "    }\n",
       "</style>\n",
       "<table border=\"1\" class=\"dataframe\">\n",
       "  <thead>\n",
       "    <tr style=\"text-align: right;\">\n",
       "      <th></th>\n",
       "      <th>County</th>\n",
       "      <th>Missing_Hand</th>\n",
       "      <th>Missing_Foot</th>\n",
       "      <th>Lame</th>\n",
       "      <th>Blind</th>\n",
       "      <th>Deaf</th>\n",
       "      <th>Dumb</th>\n",
       "      <th>Mental</th>\n",
       "      <th>Paralyzed</th>\n",
       "      <th>Other</th>\n",
       "      <th>Total_Count</th>\n",
       "    </tr>\n",
       "  </thead>\n",
       "  <tbody>\n",
       "    <tr>\n",
       "      <th>1</th>\n",
       "      <td>Bomet</td>\n",
       "      <td>0.000</td>\n",
       "      <td>0.000</td>\n",
       "      <td>0.292</td>\n",
       "      <td>0.100</td>\n",
       "      <td>0.081</td>\n",
       "      <td>0.081</td>\n",
       "      <td>0.142</td>\n",
       "      <td>0.003</td>\n",
       "      <td>0.387</td>\n",
       "      <td>6538.0</td>\n",
       "    </tr>\n",
       "    <tr>\n",
       "      <th>5</th>\n",
       "      <td>Embu</td>\n",
       "      <td>0.000</td>\n",
       "      <td>0.000</td>\n",
       "      <td>0.551</td>\n",
       "      <td>0.000</td>\n",
       "      <td>0.000</td>\n",
       "      <td>0.030</td>\n",
       "      <td>0.030</td>\n",
       "      <td>0.025</td>\n",
       "      <td>0.418</td>\n",
       "      <td>6287.4</td>\n",
       "    </tr>\n",
       "    <tr>\n",
       "      <th>7</th>\n",
       "      <td>Homa Bay</td>\n",
       "      <td>0.021</td>\n",
       "      <td>0.000</td>\n",
       "      <td>0.209</td>\n",
       "      <td>0.067</td>\n",
       "      <td>0.063</td>\n",
       "      <td>0.052</td>\n",
       "      <td>0.113</td>\n",
       "      <td>0.090</td>\n",
       "      <td>0.483</td>\n",
       "      <td>23696.8</td>\n",
       "    </tr>\n",
       "    <tr>\n",
       "      <th>9</th>\n",
       "      <td>Kajiado</td>\n",
       "      <td>0.000</td>\n",
       "      <td>0.000</td>\n",
       "      <td>0.269</td>\n",
       "      <td>0.190</td>\n",
       "      <td>0.000</td>\n",
       "      <td>0.000</td>\n",
       "      <td>0.276</td>\n",
       "      <td>0.000</td>\n",
       "      <td>0.455</td>\n",
       "      <td>3250.3</td>\n",
       "    </tr>\n",
       "    <tr>\n",
       "      <th>11</th>\n",
       "      <td>Kericho</td>\n",
       "      <td>0.000</td>\n",
       "      <td>0.000</td>\n",
       "      <td>0.000</td>\n",
       "      <td>0.048</td>\n",
       "      <td>0.000</td>\n",
       "      <td>0.000</td>\n",
       "      <td>0.000</td>\n",
       "      <td>0.217</td>\n",
       "      <td>0.736</td>\n",
       "      <td>3055.8</td>\n",
       "    </tr>\n",
       "    <tr>\n",
       "      <th>13</th>\n",
       "      <td>Kilifi</td>\n",
       "      <td>0.025</td>\n",
       "      <td>0.000</td>\n",
       "      <td>0.355</td>\n",
       "      <td>0.182</td>\n",
       "      <td>0.138</td>\n",
       "      <td>0.071</td>\n",
       "      <td>0.293</td>\n",
       "      <td>0.099</td>\n",
       "      <td>0.025</td>\n",
       "      <td>6996.6</td>\n",
       "    </tr>\n",
       "    <tr>\n",
       "      <th>15</th>\n",
       "      <td>Kisii</td>\n",
       "      <td>0.000</td>\n",
       "      <td>0.066</td>\n",
       "      <td>0.070</td>\n",
       "      <td>0.127</td>\n",
       "      <td>0.102</td>\n",
       "      <td>0.066</td>\n",
       "      <td>0.221</td>\n",
       "      <td>0.110</td>\n",
       "      <td>0.238</td>\n",
       "      <td>9627.8</td>\n",
       "    </tr>\n",
       "    <tr>\n",
       "      <th>18</th>\n",
       "      <td>Kwale</td>\n",
       "      <td>0.000</td>\n",
       "      <td>0.091</td>\n",
       "      <td>0.146</td>\n",
       "      <td>0.074</td>\n",
       "      <td>0.000</td>\n",
       "      <td>0.199</td>\n",
       "      <td>0.505</td>\n",
       "      <td>0.064</td>\n",
       "      <td>0.195</td>\n",
       "      <td>8503.0</td>\n",
       "    </tr>\n",
       "    <tr>\n",
       "      <th>20</th>\n",
       "      <td>Lamu</td>\n",
       "      <td>0.000</td>\n",
       "      <td>0.000</td>\n",
       "      <td>0.000</td>\n",
       "      <td>0.000</td>\n",
       "      <td>0.000</td>\n",
       "      <td>0.261</td>\n",
       "      <td>0.086</td>\n",
       "      <td>0.029</td>\n",
       "      <td>0.653</td>\n",
       "      <td>524.9</td>\n",
       "    </tr>\n",
       "    <tr>\n",
       "      <th>21</th>\n",
       "      <td>Machakos</td>\n",
       "      <td>0.000</td>\n",
       "      <td>0.000</td>\n",
       "      <td>0.126</td>\n",
       "      <td>0.000</td>\n",
       "      <td>0.000</td>\n",
       "      <td>0.103</td>\n",
       "      <td>0.188</td>\n",
       "      <td>0.180</td>\n",
       "      <td>0.589</td>\n",
       "      <td>23460.4</td>\n",
       "    </tr>\n",
       "    <tr>\n",
       "      <th>22</th>\n",
       "      <td>Makueni</td>\n",
       "      <td>0.000</td>\n",
       "      <td>0.000</td>\n",
       "      <td>0.167</td>\n",
       "      <td>0.315</td>\n",
       "      <td>0.047</td>\n",
       "      <td>0.092</td>\n",
       "      <td>0.197</td>\n",
       "      <td>0.109</td>\n",
       "      <td>0.305</td>\n",
       "      <td>15475.4</td>\n",
       "    </tr>\n",
       "    <tr>\n",
       "      <th>23</th>\n",
       "      <td>Mandera</td>\n",
       "      <td>0.000</td>\n",
       "      <td>0.014</td>\n",
       "      <td>0.089</td>\n",
       "      <td>0.140</td>\n",
       "      <td>0.259</td>\n",
       "      <td>0.118</td>\n",
       "      <td>0.296</td>\n",
       "      <td>0.092</td>\n",
       "      <td>0.109</td>\n",
       "      <td>3343.5</td>\n",
       "    </tr>\n",
       "    <tr>\n",
       "      <th>24</th>\n",
       "      <td>Marsabit</td>\n",
       "      <td>0.015</td>\n",
       "      <td>0.097</td>\n",
       "      <td>0.162</td>\n",
       "      <td>0.086</td>\n",
       "      <td>0.188</td>\n",
       "      <td>0.096</td>\n",
       "      <td>0.116</td>\n",
       "      <td>0.239</td>\n",
       "      <td>0.183</td>\n",
       "      <td>3931.5</td>\n",
       "    </tr>\n",
       "    <tr>\n",
       "      <th>25</th>\n",
       "      <td>Meru</td>\n",
       "      <td>0.000</td>\n",
       "      <td>0.000</td>\n",
       "      <td>0.347</td>\n",
       "      <td>0.000</td>\n",
       "      <td>0.000</td>\n",
       "      <td>0.116</td>\n",
       "      <td>0.123</td>\n",
       "      <td>0.040</td>\n",
       "      <td>0.572</td>\n",
       "      <td>19166.3</td>\n",
       "    </tr>\n",
       "    <tr>\n",
       "      <th>27</th>\n",
       "      <td>Mombasa</td>\n",
       "      <td>0.000</td>\n",
       "      <td>0.000</td>\n",
       "      <td>0.093</td>\n",
       "      <td>0.245</td>\n",
       "      <td>0.000</td>\n",
       "      <td>0.010</td>\n",
       "      <td>0.168</td>\n",
       "      <td>0.258</td>\n",
       "      <td>0.226</td>\n",
       "      <td>5413.4</td>\n",
       "    </tr>\n",
       "    <tr>\n",
       "      <th>30</th>\n",
       "      <td>Nakuru</td>\n",
       "      <td>0.004</td>\n",
       "      <td>0.000</td>\n",
       "      <td>0.550</td>\n",
       "      <td>0.000</td>\n",
       "      <td>0.000</td>\n",
       "      <td>0.084</td>\n",
       "      <td>0.336</td>\n",
       "      <td>0.127</td>\n",
       "      <td>0.157</td>\n",
       "      <td>21598.0</td>\n",
       "    </tr>\n",
       "    <tr>\n",
       "      <th>31</th>\n",
       "      <td>Nandi</td>\n",
       "      <td>0.000</td>\n",
       "      <td>0.091</td>\n",
       "      <td>0.257</td>\n",
       "      <td>0.070</td>\n",
       "      <td>0.091</td>\n",
       "      <td>0.000</td>\n",
       "      <td>0.000</td>\n",
       "      <td>0.000</td>\n",
       "      <td>0.491</td>\n",
       "      <td>11530.7</td>\n",
       "    </tr>\n",
       "    <tr>\n",
       "      <th>37</th>\n",
       "      <td>Siaya</td>\n",
       "      <td>0.000</td>\n",
       "      <td>0.000</td>\n",
       "      <td>0.224</td>\n",
       "      <td>0.294</td>\n",
       "      <td>0.000</td>\n",
       "      <td>0.057</td>\n",
       "      <td>0.145</td>\n",
       "      <td>0.100</td>\n",
       "      <td>0.236</td>\n",
       "      <td>6279.4</td>\n",
       "    </tr>\n",
       "    <tr>\n",
       "      <th>39</th>\n",
       "      <td>Tana River</td>\n",
       "      <td>0.000</td>\n",
       "      <td>0.000</td>\n",
       "      <td>0.429</td>\n",
       "      <td>0.212</td>\n",
       "      <td>0.162</td>\n",
       "      <td>0.073</td>\n",
       "      <td>0.326</td>\n",
       "      <td>0.092</td>\n",
       "      <td>0.081</td>\n",
       "      <td>3699.8</td>\n",
       "    </tr>\n",
       "    <tr>\n",
       "      <th>40</th>\n",
       "      <td>Tharaka Nithi</td>\n",
       "      <td>0.000</td>\n",
       "      <td>0.000</td>\n",
       "      <td>0.000</td>\n",
       "      <td>0.000</td>\n",
       "      <td>0.293</td>\n",
       "      <td>0.293</td>\n",
       "      <td>0.414</td>\n",
       "      <td>0.000</td>\n",
       "      <td>0.293</td>\n",
       "      <td>420.1</td>\n",
       "    </tr>\n",
       "    <tr>\n",
       "      <th>41</th>\n",
       "      <td>Trans Nzoia</td>\n",
       "      <td>0.000</td>\n",
       "      <td>0.000</td>\n",
       "      <td>0.000</td>\n",
       "      <td>0.113</td>\n",
       "      <td>0.000</td>\n",
       "      <td>0.000</td>\n",
       "      <td>0.205</td>\n",
       "      <td>0.000</td>\n",
       "      <td>0.682</td>\n",
       "      <td>8251.9</td>\n",
       "    </tr>\n",
       "    <tr>\n",
       "      <th>43</th>\n",
       "      <td>Uasin Gishu</td>\n",
       "      <td>0.000</td>\n",
       "      <td>0.000</td>\n",
       "      <td>0.186</td>\n",
       "      <td>0.000</td>\n",
       "      <td>0.000</td>\n",
       "      <td>0.000</td>\n",
       "      <td>0.273</td>\n",
       "      <td>0.072</td>\n",
       "      <td>0.581</td>\n",
       "      <td>9281.6</td>\n",
       "    </tr>\n",
       "    <tr>\n",
       "      <th>44</th>\n",
       "      <td>Vihiga</td>\n",
       "      <td>0.000</td>\n",
       "      <td>0.000</td>\n",
       "      <td>0.302</td>\n",
       "      <td>0.197</td>\n",
       "      <td>0.127</td>\n",
       "      <td>0.011</td>\n",
       "      <td>0.080</td>\n",
       "      <td>0.000</td>\n",
       "      <td>0.269</td>\n",
       "      <td>23490.6</td>\n",
       "    </tr>\n",
       "    <tr>\n",
       "      <th>45</th>\n",
       "      <td>Wajir</td>\n",
       "      <td>0.013</td>\n",
       "      <td>0.052</td>\n",
       "      <td>0.505</td>\n",
       "      <td>0.080</td>\n",
       "      <td>0.080</td>\n",
       "      <td>0.178</td>\n",
       "      <td>0.127</td>\n",
       "      <td>0.158</td>\n",
       "      <td>0.000</td>\n",
       "      <td>9276.5</td>\n",
       "    </tr>\n",
       "  </tbody>\n",
       "</table>\n",
       "</div>"
      ],
      "text/plain": [
       "           County  Missing_Hand  Missing_Foot  ...  Paralyzed  Other  Total_Count\n",
       "1           Bomet         0.000         0.000  ...      0.003  0.387       6538.0\n",
       "5            Embu         0.000         0.000  ...      0.025  0.418       6287.4\n",
       "7        Homa Bay         0.021         0.000  ...      0.090  0.483      23696.8\n",
       "9         Kajiado         0.000         0.000  ...      0.000  0.455       3250.3\n",
       "11        Kericho         0.000         0.000  ...      0.217  0.736       3055.8\n",
       "13         Kilifi         0.025         0.000  ...      0.099  0.025       6996.6\n",
       "15          Kisii         0.000         0.066  ...      0.110  0.238       9627.8\n",
       "18          Kwale         0.000         0.091  ...      0.064  0.195       8503.0\n",
       "20           Lamu         0.000         0.000  ...      0.029  0.653        524.9\n",
       "21       Machakos         0.000         0.000  ...      0.180  0.589      23460.4\n",
       "22        Makueni         0.000         0.000  ...      0.109  0.305      15475.4\n",
       "23        Mandera         0.000         0.014  ...      0.092  0.109       3343.5\n",
       "24       Marsabit         0.015         0.097  ...      0.239  0.183       3931.5\n",
       "25           Meru         0.000         0.000  ...      0.040  0.572      19166.3\n",
       "27        Mombasa         0.000         0.000  ...      0.258  0.226       5413.4\n",
       "30         Nakuru         0.004         0.000  ...      0.127  0.157      21598.0\n",
       "31          Nandi         0.000         0.091  ...      0.000  0.491      11530.7\n",
       "37          Siaya         0.000         0.000  ...      0.100  0.236       6279.4\n",
       "39     Tana River         0.000         0.000  ...      0.092  0.081       3699.8\n",
       "40  Tharaka Nithi         0.000         0.000  ...      0.000  0.293        420.1\n",
       "41    Trans Nzoia         0.000         0.000  ...      0.000  0.682       8251.9\n",
       "43    Uasin Gishu         0.000         0.000  ...      0.072  0.581       9281.6\n",
       "44         Vihiga         0.000         0.000  ...      0.000  0.269      23490.6\n",
       "45          Wajir         0.013         0.052  ...      0.158  0.000       9276.5\n",
       "\n",
       "[24 rows x 11 columns]"
      ]
     },
     "execution_count": 19,
     "metadata": {},
     "output_type": "execute_result"
    }
   ],
   "source": [
    "# Procedure 1: Duplicates\n",
    "# Data Cleaning Action: No action taken\n",
    "# Explanation: There were no duplicate instances\n",
    "#how to check duplicate and droping them\n",
    "clean_df3= clean_df2.drop_duplicates(['County'], keep='last')\n",
    "clean_df3"
   ]
  },
  {
   "cell_type": "markdown",
   "metadata": {
    "id": "yup2hhMNvVed"
   },
   "source": [
    "### 1.45) Uniformity: <font color=\"green\">Challenges<font/>"
   ]
  },
  {
   "cell_type": "code",
   "execution_count": null,
   "metadata": {
    "colab": {
     "base_uri": "https://localhost:8080/"
    },
    "id": "qcuXOaeivb3e",
    "outputId": "99b4bfc8-a097-4ecb-e543-6726fb57cda6"
   },
   "outputs": [
    {
     "data": {
      "text/plain": [
       "Index(['County', 'Missing_Hand', 'Missing_Foot', 'Lame', 'Blind', 'Deaf',\n",
       "       'Dumb', 'Mental', 'Paralyzed', 'Other', 'Total_Count'],\n",
       "      dtype='object')"
      ]
     },
     "execution_count": 20,
     "metadata": {},
     "output_type": "execute_result"
    }
   ],
   "source": [
    "# Procedure 1:\n",
    "# Data Cleaning Action:Renaming dataframe colunm\n",
    "# Explanation:makes manupulation easy....nothing to be changed.\n",
    "#\n",
    "clean_df2.columns\n"
   ]
  },
  {
   "cell_type": "code",
   "execution_count": null,
   "metadata": {
    "colab": {
     "base_uri": "https://localhost:8080/",
     "height": 204
    },
    "id": "yKTtLTTQvnJn",
    "outputId": "7cb4a305-d660-48ab-ab72-613154379684"
   },
   "outputs": [
    {
     "data": {
      "text/html": [
       "<div>\n",
       "<style scoped>\n",
       "    .dataframe tbody tr th:only-of-type {\n",
       "        vertical-align: middle;\n",
       "    }\n",
       "\n",
       "    .dataframe tbody tr th {\n",
       "        vertical-align: top;\n",
       "    }\n",
       "\n",
       "    .dataframe thead th {\n",
       "        text-align: right;\n",
       "    }\n",
       "</style>\n",
       "<table border=\"1\" class=\"dataframe\">\n",
       "  <thead>\n",
       "    <tr style=\"text-align: right;\">\n",
       "      <th></th>\n",
       "      <th>COUNTY</th>\n",
       "      <th>MISSING_HAND</th>\n",
       "      <th>MISSING_FOOT</th>\n",
       "      <th>LAME</th>\n",
       "      <th>BLIND</th>\n",
       "      <th>DEAF</th>\n",
       "      <th>DUMB</th>\n",
       "      <th>MENTAL</th>\n",
       "      <th>PARALYZED</th>\n",
       "      <th>OTHER</th>\n",
       "      <th>TOTAL_COUNT</th>\n",
       "    </tr>\n",
       "  </thead>\n",
       "  <tbody>\n",
       "    <tr>\n",
       "      <th>1</th>\n",
       "      <td>Bomet</td>\n",
       "      <td>0.000</td>\n",
       "      <td>0.0</td>\n",
       "      <td>0.292</td>\n",
       "      <td>0.100</td>\n",
       "      <td>0.081</td>\n",
       "      <td>0.081</td>\n",
       "      <td>0.142</td>\n",
       "      <td>0.003</td>\n",
       "      <td>0.387</td>\n",
       "      <td>6538.0</td>\n",
       "    </tr>\n",
       "    <tr>\n",
       "      <th>5</th>\n",
       "      <td>Embu</td>\n",
       "      <td>0.000</td>\n",
       "      <td>0.0</td>\n",
       "      <td>0.551</td>\n",
       "      <td>0.000</td>\n",
       "      <td>0.000</td>\n",
       "      <td>0.030</td>\n",
       "      <td>0.030</td>\n",
       "      <td>0.025</td>\n",
       "      <td>0.418</td>\n",
       "      <td>6287.4</td>\n",
       "    </tr>\n",
       "    <tr>\n",
       "      <th>7</th>\n",
       "      <td>Homa Bay</td>\n",
       "      <td>0.021</td>\n",
       "      <td>0.0</td>\n",
       "      <td>0.209</td>\n",
       "      <td>0.067</td>\n",
       "      <td>0.063</td>\n",
       "      <td>0.052</td>\n",
       "      <td>0.113</td>\n",
       "      <td>0.090</td>\n",
       "      <td>0.483</td>\n",
       "      <td>23696.8</td>\n",
       "    </tr>\n",
       "    <tr>\n",
       "      <th>9</th>\n",
       "      <td>Kajiado</td>\n",
       "      <td>0.000</td>\n",
       "      <td>0.0</td>\n",
       "      <td>0.269</td>\n",
       "      <td>0.190</td>\n",
       "      <td>0.000</td>\n",
       "      <td>0.000</td>\n",
       "      <td>0.276</td>\n",
       "      <td>0.000</td>\n",
       "      <td>0.455</td>\n",
       "      <td>3250.3</td>\n",
       "    </tr>\n",
       "    <tr>\n",
       "      <th>11</th>\n",
       "      <td>Kericho</td>\n",
       "      <td>0.000</td>\n",
       "      <td>0.0</td>\n",
       "      <td>0.000</td>\n",
       "      <td>0.048</td>\n",
       "      <td>0.000</td>\n",
       "      <td>0.000</td>\n",
       "      <td>0.000</td>\n",
       "      <td>0.217</td>\n",
       "      <td>0.736</td>\n",
       "      <td>3055.8</td>\n",
       "    </tr>\n",
       "  </tbody>\n",
       "</table>\n",
       "</div>"
      ],
      "text/plain": [
       "      COUNTY  MISSING_HAND  MISSING_FOOT  ...  PARALYZED  OTHER  TOTAL_COUNT\n",
       "1      Bomet         0.000           0.0  ...      0.003  0.387       6538.0\n",
       "5       Embu         0.000           0.0  ...      0.025  0.418       6287.4\n",
       "7   Homa Bay         0.021           0.0  ...      0.090  0.483      23696.8\n",
       "9    Kajiado         0.000           0.0  ...      0.000  0.455       3250.3\n",
       "11   Kericho         0.000           0.0  ...      0.217  0.736       3055.8\n",
       "\n",
       "[5 rows x 11 columns]"
      ]
     },
     "execution_count": 66,
     "metadata": {},
     "output_type": "execute_result"
    }
   ],
   "source": [
    "# Procedure 2:\n",
    "# Data Cleaning Action:fixing colunm name with upper cases\n",
    "# Explanation: for easy merging... in this case no merging\n",
    "#\n",
    "df2.columns = map(lambda x: str(x).upper(), df2.columns)\n",
    "df2.head()"
   ]
  },
  {
   "cell_type": "markdown",
   "metadata": {
    "id": "-mQqTilAaZeO"
   },
   "source": [
    "### Exporting the Cleaned Dataset"
   ]
  },
  {
   "cell_type": "code",
   "execution_count": null,
   "metadata": {
    "id": "1h7kChQDaYA4"
   },
   "outputs": [],
   "source": [
    "# Let's export our dataframe into a csv file as shown\n",
    "# in the example given in the following line;\n",
    "# daframe.to_csv('example.csv')\n",
    "# In the above case daframe is the dataframe which would like to export.\n",
    "# we use the to_csv function to create a csv file with the name example\n",
    "# and export it\n",
    "#\n",
    "df2.to_csv(\"Population2.csv\")\n"
   ]
  },
  {
   "cell_type": "markdown",
   "metadata": {
    "id": "NicC8P9LMjvO"
   },
   "source": [
    "## 1.5 Answering Questions"
   ]
  },
  {
   "cell_type": "markdown",
   "metadata": {
    "id": "8izhaW7UNYGJ"
   },
   "source": [
    "Let's answer the following questions with our dataset using python."
   ]
  },
  {
   "cell_type": "code",
   "execution_count": null,
   "metadata": {
    "colab": {
     "base_uri": "https://localhost:8080/",
     "height": 204
    },
    "id": "nKV_xEwORX6v",
    "outputId": "2920c443-1ade-4382-f2a7-55e5113dfac4"
   },
   "outputs": [
    {
     "data": {
      "text/html": [
       "<div>\n",
       "<style scoped>\n",
       "    .dataframe tbody tr th:only-of-type {\n",
       "        vertical-align: middle;\n",
       "    }\n",
       "\n",
       "    .dataframe tbody tr th {\n",
       "        vertical-align: top;\n",
       "    }\n",
       "\n",
       "    .dataframe thead th {\n",
       "        text-align: right;\n",
       "    }\n",
       "</style>\n",
       "<table border=\"1\" class=\"dataframe\">\n",
       "  <thead>\n",
       "    <tr style=\"text-align: right;\">\n",
       "      <th></th>\n",
       "      <th>Unnamed: 0</th>\n",
       "      <th>County</th>\n",
       "      <th>Missing_Hand</th>\n",
       "      <th>Missing_Foot</th>\n",
       "      <th>Lame</th>\n",
       "      <th>Blind</th>\n",
       "      <th>Deaf</th>\n",
       "      <th>Dumb</th>\n",
       "      <th>Mental</th>\n",
       "      <th>Paralyzed</th>\n",
       "      <th>Other</th>\n",
       "      <th>Total_Count</th>\n",
       "    </tr>\n",
       "  </thead>\n",
       "  <tbody>\n",
       "    <tr>\n",
       "      <th>0</th>\n",
       "      <td>1</td>\n",
       "      <td>Bomet</td>\n",
       "      <td>0.000</td>\n",
       "      <td>0.0</td>\n",
       "      <td>0.292</td>\n",
       "      <td>0.100</td>\n",
       "      <td>0.081</td>\n",
       "      <td>0.081</td>\n",
       "      <td>0.142</td>\n",
       "      <td>0.003</td>\n",
       "      <td>0.387</td>\n",
       "      <td>6538.0</td>\n",
       "    </tr>\n",
       "    <tr>\n",
       "      <th>1</th>\n",
       "      <td>5</td>\n",
       "      <td>Embu</td>\n",
       "      <td>0.000</td>\n",
       "      <td>0.0</td>\n",
       "      <td>0.551</td>\n",
       "      <td>0.000</td>\n",
       "      <td>0.000</td>\n",
       "      <td>0.030</td>\n",
       "      <td>0.030</td>\n",
       "      <td>0.025</td>\n",
       "      <td>0.418</td>\n",
       "      <td>6287.4</td>\n",
       "    </tr>\n",
       "    <tr>\n",
       "      <th>2</th>\n",
       "      <td>7</td>\n",
       "      <td>Homa Bay</td>\n",
       "      <td>0.021</td>\n",
       "      <td>0.0</td>\n",
       "      <td>0.209</td>\n",
       "      <td>0.067</td>\n",
       "      <td>0.063</td>\n",
       "      <td>0.052</td>\n",
       "      <td>0.113</td>\n",
       "      <td>0.090</td>\n",
       "      <td>0.483</td>\n",
       "      <td>23696.8</td>\n",
       "    </tr>\n",
       "    <tr>\n",
       "      <th>3</th>\n",
       "      <td>9</td>\n",
       "      <td>Kajiado</td>\n",
       "      <td>0.000</td>\n",
       "      <td>0.0</td>\n",
       "      <td>0.269</td>\n",
       "      <td>0.190</td>\n",
       "      <td>0.000</td>\n",
       "      <td>0.000</td>\n",
       "      <td>0.276</td>\n",
       "      <td>0.000</td>\n",
       "      <td>0.455</td>\n",
       "      <td>3250.3</td>\n",
       "    </tr>\n",
       "    <tr>\n",
       "      <th>4</th>\n",
       "      <td>11</td>\n",
       "      <td>Kericho</td>\n",
       "      <td>0.000</td>\n",
       "      <td>0.0</td>\n",
       "      <td>0.000</td>\n",
       "      <td>0.048</td>\n",
       "      <td>0.000</td>\n",
       "      <td>0.000</td>\n",
       "      <td>0.000</td>\n",
       "      <td>0.217</td>\n",
       "      <td>0.736</td>\n",
       "      <td>3055.8</td>\n",
       "    </tr>\n",
       "  </tbody>\n",
       "</table>\n",
       "</div>"
      ],
      "text/plain": [
       "   Unnamed: 0    County  Missing_Hand  ...  Paralyzed  Other  Total_Count\n",
       "0           1     Bomet         0.000  ...      0.003  0.387       6538.0\n",
       "1           5      Embu         0.000  ...      0.025  0.418       6287.4\n",
       "2           7  Homa Bay         0.021  ...      0.090  0.483      23696.8\n",
       "3           9   Kajiado         0.000  ...      0.000  0.455       3250.3\n",
       "4          11   Kericho         0.000  ...      0.217  0.736       3055.8\n",
       "\n",
       "[5 rows x 12 columns]"
      ]
     },
     "execution_count": 23,
     "metadata": {},
     "output_type": "execute_result"
    }
   ],
   "source": [
    "df3=pd.read_csv(\"Population2.csv\")\n",
    "df3.head()"
   ]
  },
  {
   "cell_type": "code",
   "execution_count": null,
   "metadata": {
    "colab": {
     "base_uri": "https://localhost:8080/"
    },
    "id": "tTOgnXvuMxcn",
    "outputId": "9964fa8c-e3fe-405b-f853-c7ada6d8ab7b"
   },
   "outputs": [
    {
     "data": {
      "text/plain": [
       "County\n",
       "Nyamira    0.502\n",
       "Name: Deaf, dtype: float64"
      ]
     },
     "execution_count": 24,
     "metadata": {},
     "output_type": "execute_result"
    }
   ],
   "source": [
    "# Challenge 1\n",
    "# Which county had the highest no. of registered deaf persons?\n",
    "#\n",
    "county= df1.groupby([\"County\"])['Deaf'].sum()\n",
    "county.sort_values(ascending=False)[0:1]"
   ]
  },
  {
   "cell_type": "code",
   "execution_count": null,
   "metadata": {
    "colab": {
     "base_uri": "https://localhost:8080/"
    },
    "id": "BNegesaWNvQs",
    "outputId": "69cf87bf-682a-4e45-e575-4ee2d08c3fcb"
   },
   "outputs": [
    {
     "data": {
      "text/plain": [
       "County\n",
       "Nyandarua    0.212\n",
       "Name: Missing_Hand, dtype: float64"
      ]
     },
     "execution_count": 25,
     "metadata": {},
     "output_type": "execute_result"
    }
   ],
   "source": [
    "# Challenge 2\n",
    "# Which county had the highest no. of registered persons with a missing hand?\n",
    "#\n",
    "county= df1.groupby([\"County\"])['Missing_Hand'].sum()\n",
    "county.sort_values(ascending=False).head(1)"
   ]
  },
  {
   "cell_type": "code",
   "execution_count": null,
   "metadata": {
    "colab": {
     "base_uri": "https://localhost:8080/"
    },
    "id": "7tilTerhNyiP",
    "outputId": "9aa217c8-4683-4b28-850e-ac82a10bbe63"
   },
   "outputs": [
    {
     "data": {
      "text/plain": [
       "County\n",
       "Garissa    0.371\n",
       "Name: Missing_Foot, dtype: float64"
      ]
     },
     "execution_count": 26,
     "metadata": {},
     "output_type": "execute_result"
    }
   ],
   "source": [
    "# Challenge 3\n",
    "# Which county had the highest no. of registered persons with a missing foot?\n",
    "#\n",
    "county = df1.groupby([\"County\"])[\"Missing_Foot\"].sum()\n",
    "county.sort_values(ascending=False)[0:1]"
   ]
  },
  {
   "cell_type": "code",
   "execution_count": null,
   "metadata": {
    "colab": {
     "base_uri": "https://localhost:8080/"
    },
    "id": "rhXeHa6IOBsq",
    "outputId": "afd42e83-7ed7-4ff9-c687-39a4cf4f201d"
   },
   "outputs": [
    {
     "data": {
      "text/plain": [
       "County\n",
       "Embu    0.551\n",
       "Name: Lame, dtype: float64"
      ]
     },
     "execution_count": 27,
     "metadata": {},
     "output_type": "execute_result"
    }
   ],
   "source": [
    "# Challenge 4\n",
    "# Which county had the highest no. of registered lame persons?\n",
    "#\n",
    "county = df1.groupby([\"County\"])[\"Lame\"].sum()\n",
    "county.sort_values(ascending=False).head(1)"
   ]
  },
  {
   "cell_type": "code",
   "execution_count": null,
   "metadata": {
    "colab": {
     "base_uri": "https://localhost:8080/"
    },
    "id": "wddDP6yCOD_F",
    "outputId": "fd8e14b4-64f0-47e0-fc44-7b92473199f2"
   },
   "outputs": [
    {
     "data": {
      "text/plain": [
       "County\n",
       "Taita Taveta    0.0\n",
       "Name: Blind, dtype: float64"
      ]
     },
     "execution_count": 28,
     "metadata": {},
     "output_type": "execute_result"
    }
   ],
   "source": [
    "# Challenge 5\n",
    "# Which county had the lowest no. of registered blind persons?\n",
    "#\n",
    "county = df1.groupby([\"County\"])[\"Blind\"].sum()\n",
    "county.sort_values(ascending=False).tail(1)"
   ]
  },
  {
   "cell_type": "code",
   "execution_count": null,
   "metadata": {
    "colab": {
     "base_uri": "https://localhost:8080/"
    },
    "id": "OemJ0HDYOHCq",
    "outputId": "7226c264-7c50-4b2d-e26e-533aea9771da"
   },
   "outputs": [
    {
     "data": {
      "text/plain": [
       "County\n",
       "Tharaka Nithi    0.293\n",
       "Name: Deaf, dtype: float64"
      ]
     },
     "execution_count": 29,
     "metadata": {},
     "output_type": "execute_result"
    }
   ],
   "source": [
    "# Challenge 6\n",
    "# Which county had the highest third no. of registered deaf persons?\n",
    "#\n",
    "county_1 = df1.groupby([\"County\"])[\"Deaf\"].sum()\n",
    "county_1.sort_values(ascending=False)[2:3]"
   ]
  },
  {
   "cell_type": "code",
   "execution_count": null,
   "metadata": {
    "colab": {
     "base_uri": "https://localhost:8080/"
    },
    "id": "CIxC5arSOLak",
    "outputId": "3e3fd85a-2144-40ab-9d00-fe6b33047baf"
   },
   "outputs": [
    {
     "data": {
      "text/plain": [
       "County\n",
       "Laikipia    0.548\n",
       "Nyamira     0.545\n",
       "Murang'a    0.414\n",
       "Kitui       0.364\n",
       "Busia       0.355\n",
       "Name: Dumb, dtype: float64"
      ]
     },
     "execution_count": 30,
     "metadata": {},
     "output_type": "execute_result"
    }
   ],
   "source": [
    "# Challenge 7\n",
    "# In descending order, which top 5 counties had the highest no. of registered dumb persons?\n",
    "#\n",
    "county_1 = df1.groupby([\"County\"])[\"Dumb\"].sum()\n",
    "county_1.sort_values(ascending=False)[0:5]"
   ]
  },
  {
   "cell_type": "code",
   "execution_count": null,
   "metadata": {
    "colab": {
     "base_uri": "https://localhost:8080/"
    },
    "id": "gSjjnw56OP8O",
    "outputId": "3aec43a0-2d00-4ce6-e9f5-48d52b7aa548"
   },
   "outputs": [
    {
     "data": {
      "text/plain": [
       "County\n",
       "Taita Taveta     0.831\n",
       "Kiambu           0.707\n",
       "Kirinyaga        0.664\n",
       "Kwale            0.505\n",
       "Tharaka Nithi    0.414\n",
       "Name: Mental, dtype: float64"
      ]
     },
     "execution_count": 31,
     "metadata": {},
     "output_type": "execute_result"
    }
   ],
   "source": [
    "# Challenge 8\n",
    "# In ascending order, which top 5 counties had the highest no. of registered persons with a mental disability?\n",
    "#\n",
    "county_1 = df1.groupby([\"County\"])[\"Mental\"].sum()\n",
    "county_1.sort_values(ascending=False).head()"
   ]
  },
  {
   "cell_type": "code",
   "execution_count": null,
   "metadata": {
    "colab": {
     "base_uri": "https://localhost:8080/"
    },
    "id": "UZLYqF7UOTtu",
    "outputId": "c6d0c94c-bec3-4871-96ae-0ddb80e8dc84"
   },
   "outputs": [
    {
     "data": {
      "text/plain": [
       "5             Embu\n",
       "6          Garissa\n",
       "14       Kirinyaga\n",
       "16          Kisumu\n",
       "19        Laikipia\n",
       "20            Lamu\n",
       "21        Machakos\n",
       "25            Meru\n",
       "30          Nakuru\n",
       "38    Taita Taveta\n",
       "43     Uasin Gishu\n",
       "Name: County, dtype: object"
      ]
     },
     "execution_count": 32,
     "metadata": {},
     "output_type": "execute_result"
    }
   ],
   "source": [
    "# Challenge 9\n",
    "# Which counties had no registerd blind persons nor deaf persons?\n",
    "#\n",
    "no_def_blind= df1[(df1['Deaf'] ==0) & (df1['Blind']==0)][\"County\"]\n",
    "no_def_blind\n"
   ]
  },
  {
   "cell_type": "code",
   "execution_count": null,
   "metadata": {
    "colab": {
     "base_uri": "https://localhost:8080/"
    },
    "id": "1qk8wF3MOXDu",
    "outputId": "1aed93e8-dfe1-4b34-a282-1c81785477fb"
   },
   "outputs": [
    {
     "data": {
      "text/plain": [
       "Lame    10.854\n",
       "dtype: float64"
      ]
     },
     "execution_count": 46,
     "metadata": {},
     "output_type": "execute_result"
    }
   ],
   "source": [
    "# Challenge 10\n",
    "# Which disability was the most registered across all the counties?\n",
    "#\n",
    "b= df1[[\"Missing_Hand\", \"Missing_Foot\",\"Lame\", \"Blind\", \"Deaf\", \"Dumb\", \"Mental\",\"Paralyzed\"]].sum()\n",
    "b.sort_values(ascending=False).head(1)"
   ]
  },
  {
   "cell_type": "code",
   "execution_count": null,
   "metadata": {
    "colab": {
     "base_uri": "https://localhost:8080/"
    },
    "id": "8xkStdjdXS3w",
    "outputId": "42ba2cdd-240f-4098-82bc-7ca8d06dabf6"
   },
   "outputs": [
    {
     "data": {
      "text/plain": [
       "Missing_Hand    0.996\n",
       "dtype: float64"
      ]
     },
     "execution_count": 48,
     "metadata": {},
     "output_type": "execute_result"
    }
   ],
   "source": [
    "# Challenge 11\n",
    "# Which disability was the least registered across all the counties?\n",
    "#\n",
    "b= df1[[\"Missing_Hand\", \"Missing_Foot\",\"Lame\", \"Blind\", \"Deaf\", \"Dumb\", \"Mental\",\"Paralyzed\", \"Other\" ]].sum()\n",
    "b.sort_values(ascending=False).tail(1)\n"
   ]
  },
  {
   "cell_type": "code",
   "execution_count": null,
   "metadata": {
    "colab": {
     "base_uri": "https://localhost:8080/"
    },
    "id": "rgVsXH_5XVCh",
    "outputId": "4e80226a-70f7-429d-f8eb-10077a7c99c2"
   },
   "outputs": [
    {
     "data": {
      "text/plain": [
       "16774.087499999998"
      ]
     },
     "execution_count": 35,
     "metadata": {},
     "output_type": "execute_result"
    }
   ],
   "source": [
    "# Challenge 12\n",
    "# What was the average no. of registered persons with a disability?\n",
    "#\n",
    "avg_counties_dis= df1[\"Total_Count\"].mean()\n",
    "avg_counties_dis"
   ]
  },
  {
   "cell_type": "code",
   "execution_count": null,
   "metadata": {
    "colab": {
     "base_uri": "https://localhost:8080/"
    },
    "id": "XvvFWhuDXXeP",
    "outputId": "d07013c5-efed-4144-fe64-74462278e0f5"
   },
   "outputs": [
    {
     "data": {
      "text/plain": [
       "County\n",
       "Turkana          1733.1\n",
       "Lamu              524.9\n",
       "Tharaka Nithi     420.1\n",
       "Name: Total_Count, dtype: float64"
      ]
     },
     "execution_count": 36,
     "metadata": {},
     "output_type": "execute_result"
    }
   ],
   "source": [
    "# Challenge 13\n",
    "# Which three counties had least registered persons with disabilities?\n",
    "#\n",
    "urban_population = df1.groupby(['County'])[\"Total_Count\"].sum()\n",
    "urban_population.sort_values(ascending=False).tail(3)"
   ]
  },
  {
   "cell_type": "code",
   "execution_count": null,
   "metadata": {
    "colab": {
     "base_uri": "https://localhost:8080/"
    },
    "id": "q1iq02FuXc2R",
    "outputId": "664aabe0-a74d-4c00-f80b-0423b78de593"
   },
   "outputs": [
    {
     "data": {
      "text/plain": [
       "805156.2"
      ]
     },
     "execution_count": 37,
     "metadata": {},
     "output_type": "execute_result"
    }
   ],
   "source": [
    "# Challenge 14\n",
    "# What was the total no of registered persons with a disability across all counties?\n",
    "#\n",
    "all_counties_dis= df1[\"Total_Count\"].sum()\n",
    "all_counties_dis"
   ]
  },
  {
   "cell_type": "code",
   "execution_count": null,
   "metadata": {
    "colab": {
     "base_uri": "https://localhost:8080/"
    },
    "id": "drAWpxBZXhcF",
    "outputId": "80f349df-62a0-438b-aac2-9b79eaa12acf"
   },
   "outputs": [
    {
     "data": {
      "text/plain": [
       "County\n",
       "Kenya average    402578.1\n",
       "Kakamega          27468.9\n",
       "Homa Bay          23696.8\n",
       "Name: Total_Count, dtype: float64"
      ]
     },
     "execution_count": 38,
     "metadata": {},
     "output_type": "execute_result"
    }
   ],
   "source": [
    "# Challenge 15\n",
    "# Which top 3 counties has the highest no. of registered persons with a disability?\n",
    "#\n",
    "urban_population = df1.groupby(['County'])[\"Total_Count\"].sum()\n",
    "urban_population.sort_values(ascending=False)[:3]"
   ]
  }
 ],
 "metadata": {
  "colab": {
   "provenance": []
  },
  "kernelspec": {
   "display_name": "Python 3 (ipykernel)",
   "language": "python",
   "name": "python3"
  },
  "language_info": {
   "codemirror_mode": {
    "name": "ipython",
    "version": 3
   },
   "file_extension": ".py",
   "mimetype": "text/x-python",
   "name": "python",
   "nbconvert_exporter": "python",
   "pygments_lexer": "ipython3",
   "version": "3.11.7"
  },
  "toc": {
   "base_numbering": 1,
   "nav_menu": {},
   "number_sections": true,
   "sideBar": true,
   "skip_h1_title": false,
   "title_cell": "Table of Contents",
   "title_sidebar": "Contents",
   "toc_cell": false,
   "toc_position": {},
   "toc_section_display": true,
   "toc_window_display": false
  }
 },
 "nbformat": 4,
 "nbformat_minor": 1
}
